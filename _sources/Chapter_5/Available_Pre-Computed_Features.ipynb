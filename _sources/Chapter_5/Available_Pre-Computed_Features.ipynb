{
 "cells": [
  {
   "cell_type": "markdown",
   "metadata": {},
   "source": [
    "# Available Pre-Computed Features"
   ]
  },
  {
   "cell_type": "markdown",
   "metadata": {},
   "source": [
    "The Allen Institute also has many more precomputed features. Many of them give access to more information on the electrophysiology, morphology, and metadata on the cells available in the Allen. We will demonstrate some of these features below."
   ]
  },
  {
   "cell_type": "code",
   "execution_count": 38,
   "metadata": {},
   "outputs": [],
   "source": [
    "#Import all the necessary packages and initalize an instance of the cache\n",
    "import pandas as pd\n",
    "from allensdk.core.cell_types_cache import CellTypesCache\n",
    "from allensdk.api.queries.cell_types_api import CellTypesApi\n",
    "import matplotlib.pyplot as plt\n",
    "ctc = CellTypesCache(manifest_file='cell_types/manifest.json')"
   ]
  },
  {
   "cell_type": "markdown",
   "metadata": {},
   "source": [
    "The `all_features` method can be used to access the morphology and electrophysiology of all the cells in the database and merges the two into a single table. This method can take into two optional inputs; `dataframe` and `require_reconstructon`."
   ]
  },
  {
   "cell_type": "code",
   "execution_count": 39,
   "metadata": {},
   "outputs": [
    {
     "name": "stderr",
     "output_type": "stream",
     "text": [
      "/Users/VictorMagdaleno/opt/anaconda3/lib/python3.7/site-packages/allensdk/core/cell_types_cache.py:271: UserWarning: dataframe argument is deprecated.\n",
      "  warnings.warn(\"dataframe argument is deprecated.\")\n"
     ]
    },
    {
     "data": {
      "text/html": [
       "<div>\n",
       "<style scoped>\n",
       "    .dataframe tbody tr th:only-of-type {\n",
       "        vertical-align: middle;\n",
       "    }\n",
       "\n",
       "    .dataframe tbody tr th {\n",
       "        vertical-align: top;\n",
       "    }\n",
       "\n",
       "    .dataframe thead th {\n",
       "        text-align: right;\n",
       "    }\n",
       "</style>\n",
       "<table border=\"1\" class=\"dataframe\">\n",
       "  <thead>\n",
       "    <tr style=\"text-align: right;\">\n",
       "      <th></th>\n",
       "      <th>adaptation</th>\n",
       "      <th>avg_isi</th>\n",
       "      <th>electrode_0_pa</th>\n",
       "      <th>f_i_curve_slope</th>\n",
       "      <th>fast_trough_t_long_square</th>\n",
       "      <th>fast_trough_t_ramp</th>\n",
       "      <th>fast_trough_t_short_square</th>\n",
       "      <th>fast_trough_v_long_square</th>\n",
       "      <th>fast_trough_v_ramp</th>\n",
       "      <th>fast_trough_v_short_square</th>\n",
       "      <th>...</th>\n",
       "      <th>overall_width</th>\n",
       "      <th>scale_factor_x</th>\n",
       "      <th>scale_factor_y</th>\n",
       "      <th>scale_factor_z</th>\n",
       "      <th>soma_surface</th>\n",
       "      <th>superseded</th>\n",
       "      <th>tags</th>\n",
       "      <th>total_length</th>\n",
       "      <th>total_surface</th>\n",
       "      <th>total_volume</th>\n",
       "    </tr>\n",
       "  </thead>\n",
       "  <tbody>\n",
       "    <tr>\n",
       "      <th>0</th>\n",
       "      <td>NaN</td>\n",
       "      <td>134.700000</td>\n",
       "      <td>22.697498</td>\n",
       "      <td>8.335459e-02</td>\n",
       "      <td>1.18768</td>\n",
       "      <td>13.295200</td>\n",
       "      <td>1.025916</td>\n",
       "      <td>-56.375004</td>\n",
       "      <td>-57.385420</td>\n",
       "      <td>-57.431251</td>\n",
       "      <td>...</td>\n",
       "      <td>581.674568</td>\n",
       "      <td>0.1144</td>\n",
       "      <td>0.1144</td>\n",
       "      <td>0.28</td>\n",
       "      <td>444.247484</td>\n",
       "      <td>False</td>\n",
       "      <td>3D Neuron Reconstruction morphology</td>\n",
       "      <td>9995.218601</td>\n",
       "      <td>16666.213729</td>\n",
       "      <td>2355.765059</td>\n",
       "    </tr>\n",
       "    <tr>\n",
       "      <th>1</th>\n",
       "      <td>NaN</td>\n",
       "      <td>NaN</td>\n",
       "      <td>-24.887498</td>\n",
       "      <td>-3.913630e-19</td>\n",
       "      <td>1.09984</td>\n",
       "      <td>20.650105</td>\n",
       "      <td>1.025460</td>\n",
       "      <td>-54.000000</td>\n",
       "      <td>-54.828129</td>\n",
       "      <td>-54.656254</td>\n",
       "      <td>...</td>\n",
       "      <td>391.393464</td>\n",
       "      <td>0.1144</td>\n",
       "      <td>0.1144</td>\n",
       "      <td>0.28</td>\n",
       "      <td>1997.534304</td>\n",
       "      <td>False</td>\n",
       "      <td>3D Neuron Reconstruction morphology</td>\n",
       "      <td>6533.385774</td>\n",
       "      <td>13173.179026</td>\n",
       "      <td>2962.024123</td>\n",
       "    </tr>\n",
       "    <tr>\n",
       "      <th>2</th>\n",
       "      <td>0.044825</td>\n",
       "      <td>91.322222</td>\n",
       "      <td>-46.761876</td>\n",
       "      <td>2.238637e-01</td>\n",
       "      <td>1.19024</td>\n",
       "      <td>3.826338</td>\n",
       "      <td>1.025363</td>\n",
       "      <td>-44.937504</td>\n",
       "      <td>-43.635419</td>\n",
       "      <td>-47.395833</td>\n",
       "      <td>...</td>\n",
       "      <td>236.976305</td>\n",
       "      <td>0.1144</td>\n",
       "      <td>0.1144</td>\n",
       "      <td>0.28</td>\n",
       "      <td>522.952356</td>\n",
       "      <td>False</td>\n",
       "      <td>3D Neuron Reconstruction morphology</td>\n",
       "      <td>2067.805445</td>\n",
       "      <td>3180.344934</td>\n",
       "      <td>460.354199</td>\n",
       "    </tr>\n",
       "    <tr>\n",
       "      <th>3</th>\n",
       "      <td>0.002303</td>\n",
       "      <td>8.756140</td>\n",
       "      <td>-33.787497</td>\n",
       "      <td>6.366711e-01</td>\n",
       "      <td>1.72910</td>\n",
       "      <td>16.728967</td>\n",
       "      <td>1.023988</td>\n",
       "      <td>-60.968754</td>\n",
       "      <td>-63.145835</td>\n",
       "      <td>-66.856253</td>\n",
       "      <td>...</td>\n",
       "      <td>332.948545</td>\n",
       "      <td>0.1144</td>\n",
       "      <td>0.1144</td>\n",
       "      <td>0.28</td>\n",
       "      <td>76.604264</td>\n",
       "      <td>False</td>\n",
       "      <td>3D Neuron Reconstruction morphology</td>\n",
       "      <td>3488.103438</td>\n",
       "      <td>2371.871389</td>\n",
       "      <td>129.985840</td>\n",
       "    </tr>\n",
       "    <tr>\n",
       "      <th>4</th>\n",
       "      <td>0.093492</td>\n",
       "      <td>112.245000</td>\n",
       "      <td>3.015000</td>\n",
       "      <td>1.500000e-01</td>\n",
       "      <td>1.10920</td>\n",
       "      <td>5.458287</td>\n",
       "      <td>1.025020</td>\n",
       "      <td>-51.062504</td>\n",
       "      <td>-57.916670</td>\n",
       "      <td>-56.531254</td>\n",
       "      <td>...</td>\n",
       "      <td>374.603996</td>\n",
       "      <td>0.1144</td>\n",
       "      <td>0.1144</td>\n",
       "      <td>0.28</td>\n",
       "      <td>77.936062</td>\n",
       "      <td>False</td>\n",
       "      <td>3D Neuron Reconstruction morphology</td>\n",
       "      <td>2977.161146</td>\n",
       "      <td>2703.134880</td>\n",
       "      <td>204.115177</td>\n",
       "    </tr>\n",
       "  </tbody>\n",
       "</table>\n",
       "<p>5 rows × 85 columns</p>\n",
       "</div>"
      ],
      "text/plain": [
       "   adaptation     avg_isi  electrode_0_pa  f_i_curve_slope  \\\n",
       "0         NaN  134.700000       22.697498     8.335459e-02   \n",
       "1         NaN         NaN      -24.887498    -3.913630e-19   \n",
       "2    0.044825   91.322222      -46.761876     2.238637e-01   \n",
       "3    0.002303    8.756140      -33.787497     6.366711e-01   \n",
       "4    0.093492  112.245000        3.015000     1.500000e-01   \n",
       "\n",
       "   fast_trough_t_long_square  fast_trough_t_ramp  fast_trough_t_short_square  \\\n",
       "0                    1.18768           13.295200                    1.025916   \n",
       "1                    1.09984           20.650105                    1.025460   \n",
       "2                    1.19024            3.826338                    1.025363   \n",
       "3                    1.72910           16.728967                    1.023988   \n",
       "4                    1.10920            5.458287                    1.025020   \n",
       "\n",
       "   fast_trough_v_long_square  fast_trough_v_ramp  fast_trough_v_short_square  \\\n",
       "0                 -56.375004          -57.385420                  -57.431251   \n",
       "1                 -54.000000          -54.828129                  -54.656254   \n",
       "2                 -44.937504          -43.635419                  -47.395833   \n",
       "3                 -60.968754          -63.145835                  -66.856253   \n",
       "4                 -51.062504          -57.916670                  -56.531254   \n",
       "\n",
       "   ...  overall_width  scale_factor_x  scale_factor_y  scale_factor_z  \\\n",
       "0  ...     581.674568          0.1144          0.1144            0.28   \n",
       "1  ...     391.393464          0.1144          0.1144            0.28   \n",
       "2  ...     236.976305          0.1144          0.1144            0.28   \n",
       "3  ...     332.948545          0.1144          0.1144            0.28   \n",
       "4  ...     374.603996          0.1144          0.1144            0.28   \n",
       "\n",
       "   soma_surface  superseded                                 tags  \\\n",
       "0    444.247484       False  3D Neuron Reconstruction morphology   \n",
       "1   1997.534304       False  3D Neuron Reconstruction morphology   \n",
       "2    522.952356       False  3D Neuron Reconstruction morphology   \n",
       "3     76.604264       False  3D Neuron Reconstruction morphology   \n",
       "4     77.936062       False  3D Neuron Reconstruction morphology   \n",
       "\n",
       "   total_length  total_surface  total_volume  \n",
       "0   9995.218601   16666.213729   2355.765059  \n",
       "1   6533.385774   13173.179026   2962.024123  \n",
       "2   2067.805445    3180.344934    460.354199  \n",
       "3   3488.103438    2371.871389    129.985840  \n",
       "4   2977.161146    2703.134880    204.115177  \n",
       "\n",
       "[5 rows x 85 columns]"
      ]
     },
     "execution_count": 39,
     "metadata": {},
     "output_type": "execute_result"
    }
   ],
   "source": [
    "all_features = ctc.get_all_features(dataframe = True)\n",
    "all_features.head()"
   ]
  },
  {
   "cell_type": "markdown",
   "metadata": {},
   "source": [
    "Since we set the `dataframe` parameter to `True`, the method returns our data as a nice and neat pandas dataframe. If set to `False`, the method returns a dictionary. We can all check to make sure all the columns are there by executing the `get_ephys_features` and `get_morphology_features` seperately and comparing the columns."
   ]
  },
  {
   "cell_type": "code",
   "execution_count": 40,
   "metadata": {},
   "outputs": [
    {
     "data": {
      "text/plain": [
       "Index(['adaptation', 'avg_isi', 'electrode_0_pa', 'f_i_curve_slope',\n",
       "       'fast_trough_t_long_square', 'fast_trough_t_ramp',\n",
       "       'fast_trough_t_short_square', 'fast_trough_v_long_square',\n",
       "       'fast_trough_v_ramp', 'fast_trough_v_short_square', 'has_burst',\n",
       "       'has_delay', 'has_pause', 'id_x', 'input_resistance_mohm', 'latency',\n",
       "       'peak_t_long_square', 'peak_t_ramp', 'peak_t_short_square',\n",
       "       'peak_v_long_square', 'peak_v_ramp', 'peak_v_short_square',\n",
       "       'rheobase_sweep_id', 'rheobase_sweep_number', 'ri', 'sag', 'seal_gohm',\n",
       "       'slow_trough_t_long_square', 'slow_trough_t_ramp',\n",
       "       'slow_trough_t_short_square', 'slow_trough_v_long_square',\n",
       "       'slow_trough_v_ramp', 'slow_trough_v_short_square', 'specimen_id',\n",
       "       'tau', 'threshold_i_long_square', 'threshold_i_ramp',\n",
       "       'threshold_i_short_square', 'threshold_t_long_square',\n",
       "       'threshold_t_ramp', 'threshold_t_short_square',\n",
       "       'threshold_v_long_square', 'threshold_v_ramp',\n",
       "       'threshold_v_short_square', 'thumbnail_sweep_id',\n",
       "       'trough_t_long_square', 'trough_t_ramp', 'trough_t_short_square',\n",
       "       'trough_v_long_square', 'trough_v_ramp', 'trough_v_short_square',\n",
       "       'upstroke_downstroke_ratio_long_square',\n",
       "       'upstroke_downstroke_ratio_ramp',\n",
       "       'upstroke_downstroke_ratio_short_square', 'vm_for_sag', 'vrest',\n",
       "       'average_bifurcation_angle_local', 'average_bifurcation_angle_remote',\n",
       "       'average_contraction', 'average_diameter', 'average_fragmentation',\n",
       "       'average_parent_daughter_ratio', 'hausdorff_dimension', 'id_y',\n",
       "       'max_branch_order', 'max_euclidean_distance', 'max_path_distance',\n",
       "       'neuron_reconstruction_type', 'number_bifurcations', 'number_branches',\n",
       "       'number_nodes', 'number_stems', 'number_tips', 'overall_depth',\n",
       "       'overall_height', 'overall_width', 'scale_factor_x', 'scale_factor_y',\n",
       "       'scale_factor_z', 'soma_surface', 'superseded', 'tags', 'total_length',\n",
       "       'total_surface', 'total_volume'],\n",
       "      dtype='object')"
      ]
     },
     "execution_count": 40,
     "metadata": {},
     "output_type": "execute_result"
    }
   ],
   "source": [
    "all_features_columns = all_features.columns\n",
    "all_features_columns"
   ]
  },
  {
   "cell_type": "code",
   "execution_count": 41,
   "metadata": {},
   "outputs": [
    {
     "name": "stdout",
     "output_type": "stream",
     "text": [
      "True\n"
     ]
    }
   ],
   "source": [
    "# Store all ephys columns in a variable \n",
    "ephys_df = pd.DataFrame(ctc.get_ephys_features()).set_index('specimen_id')\n",
    "ephys_columns = ephys_df.columns\n",
    "\n",
    "# Store all morphology columns in a variable \n",
    "morphology_df = pd.DataFrame(ctc.get_morphology_features()).set_index('specimen_id')\n",
    "morphology_columns = morphology_df.columns \n",
    "\n",
    "# Combine the two into one list\n",
    "ephys_and_morphology = list(morphology_columns) + list(ephys_columns)\n",
    "\n",
    "# Sort and Compare the columns to make sure they are all there \n",
    "print(list(all_features_columns).sort() == ephys_and_morphology.sort())"
   ]
  },
  {
   "cell_type": "markdown",
   "metadata": {},
   "source": [
    "By default, `get_all_features()` only returns ephys and morphology features for cells that have reconstructions. To access all cells regardless of reconstruction, set the parameter `require_recontruction` to `False`."
   ]
  },
  {
   "cell_type": "markdown",
   "metadata": {},
   "source": [
    "Below we have created a pandas dataframe from the data on mouse cells and set the row indices to be the `id` column. This will give us the metadata on mouse cells along and ID's to choose from. "
   ]
  },
  {
   "cell_type": "code",
   "execution_count": 42,
   "metadata": {},
   "outputs": [
    {
     "data": {
      "text/html": [
       "<div>\n",
       "<style scoped>\n",
       "    .dataframe tbody tr th:only-of-type {\n",
       "        vertical-align: middle;\n",
       "    }\n",
       "\n",
       "    .dataframe tbody tr th {\n",
       "        vertical-align: top;\n",
       "    }\n",
       "\n",
       "    .dataframe thead th {\n",
       "        text-align: right;\n",
       "    }\n",
       "</style>\n",
       "<table border=\"1\" class=\"dataframe\">\n",
       "  <thead>\n",
       "    <tr style=\"text-align: right;\">\n",
       "      <th></th>\n",
       "      <th>reporter_status</th>\n",
       "      <th>cell_soma_location</th>\n",
       "      <th>species</th>\n",
       "      <th>name</th>\n",
       "      <th>structure_layer_name</th>\n",
       "      <th>structure_area_id</th>\n",
       "      <th>structure_area_abbrev</th>\n",
       "      <th>transgenic_line</th>\n",
       "      <th>dendrite_type</th>\n",
       "      <th>apical</th>\n",
       "      <th>reconstruction_type</th>\n",
       "      <th>disease_state</th>\n",
       "      <th>donor_id</th>\n",
       "      <th>structure_hemisphere</th>\n",
       "      <th>normalized_depth</th>\n",
       "    </tr>\n",
       "    <tr>\n",
       "      <th>id</th>\n",
       "      <th></th>\n",
       "      <th></th>\n",
       "      <th></th>\n",
       "      <th></th>\n",
       "      <th></th>\n",
       "      <th></th>\n",
       "      <th></th>\n",
       "      <th></th>\n",
       "      <th></th>\n",
       "      <th></th>\n",
       "      <th></th>\n",
       "      <th></th>\n",
       "      <th></th>\n",
       "      <th></th>\n",
       "      <th></th>\n",
       "    </tr>\n",
       "  </thead>\n",
       "  <tbody>\n",
       "    <tr>\n",
       "      <th>565871768</th>\n",
       "      <td>positive</td>\n",
       "      <td>[8966.56330957526, 1429.52689052075, 8567.3896...</td>\n",
       "      <td>Mus musculus</td>\n",
       "      <td>Oxtr-2A-Cre;Ai14-293837.03.01.02</td>\n",
       "      <td>5</td>\n",
       "      <td>385</td>\n",
       "      <td>VISp</td>\n",
       "      <td>Oxtr-T2A-Cre</td>\n",
       "      <td>aspiny</td>\n",
       "      <td>NA</td>\n",
       "      <td>None</td>\n",
       "      <td></td>\n",
       "      <td>563340157</td>\n",
       "      <td>left</td>\n",
       "      <td>0.582057</td>\n",
       "    </tr>\n",
       "    <tr>\n",
       "      <th>469801138</th>\n",
       "      <td>positive</td>\n",
       "      <td>[7872.53138541818, 993.212032389272, 3127.1530...</td>\n",
       "      <td>Mus musculus</td>\n",
       "      <td>Pvalb-IRES-Cre;Ai14-170927.05.02.01</td>\n",
       "      <td>4</td>\n",
       "      <td>385</td>\n",
       "      <td>VISp</td>\n",
       "      <td>Pvalb-IRES-Cre</td>\n",
       "      <td>aspiny</td>\n",
       "      <td>NA</td>\n",
       "      <td>None</td>\n",
       "      <td></td>\n",
       "      <td>319194354</td>\n",
       "      <td>right</td>\n",
       "      <td>0.469578</td>\n",
       "    </tr>\n",
       "    <tr>\n",
       "      <th>605889373</th>\n",
       "      <td>positive</td>\n",
       "      <td>[9400.0, 1520.74232706376, 2188.13845194139]</td>\n",
       "      <td>Mus musculus</td>\n",
       "      <td>Vipr2-IRES2-Cre;Slc32a1-T2A-FlpO;Ai65-337419.0...</td>\n",
       "      <td>2/3</td>\n",
       "      <td>385</td>\n",
       "      <td>VISp</td>\n",
       "      <td>Slc32a1-T2A-FlpO|Vipr2-IRES2-Cre</td>\n",
       "      <td>aspiny</td>\n",
       "      <td>NA</td>\n",
       "      <td>None</td>\n",
       "      <td></td>\n",
       "      <td>605622695</td>\n",
       "      <td>right</td>\n",
       "      <td>NaN</td>\n",
       "    </tr>\n",
       "    <tr>\n",
       "      <th>485909730</th>\n",
       "      <td>positive</td>\n",
       "      <td>[8881.0, 953.839501299405, 7768.22695782726]</td>\n",
       "      <td>Mus musculus</td>\n",
       "      <td>Cux2-CreERT2;Ai14-205530.03.02.01</td>\n",
       "      <td>5</td>\n",
       "      <td>385</td>\n",
       "      <td>VISp</td>\n",
       "      <td>Cux2-CreERT2</td>\n",
       "      <td>spiny</td>\n",
       "      <td>intact</td>\n",
       "      <td>dendrite-only</td>\n",
       "      <td></td>\n",
       "      <td>485250100</td>\n",
       "      <td>right</td>\n",
       "      <td>0.478344</td>\n",
       "    </tr>\n",
       "    <tr>\n",
       "      <th>323865917</th>\n",
       "      <td>positive</td>\n",
       "      <td>[8125.0, 904.841803028986, 7819.69986630448]</td>\n",
       "      <td>Mus musculus</td>\n",
       "      <td>Scnn1a-Tg3-Cre;Ai14-172530.06.01.01</td>\n",
       "      <td>5</td>\n",
       "      <td>385</td>\n",
       "      <td>VISp</td>\n",
       "      <td>Scnn1a-Tg3-Cre</td>\n",
       "      <td>spiny</td>\n",
       "      <td>intact</td>\n",
       "      <td>dendrite-only</td>\n",
       "      <td></td>\n",
       "      <td>322489588</td>\n",
       "      <td>left</td>\n",
       "      <td>0.608590</td>\n",
       "    </tr>\n",
       "  </tbody>\n",
       "</table>\n",
       "</div>"
      ],
      "text/plain": [
       "          reporter_status                                 cell_soma_location  \\\n",
       "id                                                                             \n",
       "565871768        positive  [8966.56330957526, 1429.52689052075, 8567.3896...   \n",
       "469801138        positive  [7872.53138541818, 993.212032389272, 3127.1530...   \n",
       "605889373        positive       [9400.0, 1520.74232706376, 2188.13845194139]   \n",
       "485909730        positive       [8881.0, 953.839501299405, 7768.22695782726]   \n",
       "323865917        positive       [8125.0, 904.841803028986, 7819.69986630448]   \n",
       "\n",
       "                species                                               name  \\\n",
       "id                                                                           \n",
       "565871768  Mus musculus                   Oxtr-2A-Cre;Ai14-293837.03.01.02   \n",
       "469801138  Mus musculus                Pvalb-IRES-Cre;Ai14-170927.05.02.01   \n",
       "605889373  Mus musculus  Vipr2-IRES2-Cre;Slc32a1-T2A-FlpO;Ai65-337419.0...   \n",
       "485909730  Mus musculus                  Cux2-CreERT2;Ai14-205530.03.02.01   \n",
       "323865917  Mus musculus                Scnn1a-Tg3-Cre;Ai14-172530.06.01.01   \n",
       "\n",
       "          structure_layer_name  structure_area_id structure_area_abbrev  \\\n",
       "id                                                                        \n",
       "565871768                    5                385                  VISp   \n",
       "469801138                    4                385                  VISp   \n",
       "605889373                  2/3                385                  VISp   \n",
       "485909730                    5                385                  VISp   \n",
       "323865917                    5                385                  VISp   \n",
       "\n",
       "                            transgenic_line dendrite_type  apical  \\\n",
       "id                                                                  \n",
       "565871768                      Oxtr-T2A-Cre        aspiny      NA   \n",
       "469801138                    Pvalb-IRES-Cre        aspiny      NA   \n",
       "605889373  Slc32a1-T2A-FlpO|Vipr2-IRES2-Cre        aspiny      NA   \n",
       "485909730                      Cux2-CreERT2         spiny  intact   \n",
       "323865917                    Scnn1a-Tg3-Cre         spiny  intact   \n",
       "\n",
       "          reconstruction_type disease_state   donor_id structure_hemisphere  \\\n",
       "id                                                                            \n",
       "565871768                None                563340157                 left   \n",
       "469801138                None                319194354                right   \n",
       "605889373                None                605622695                right   \n",
       "485909730       dendrite-only                485250100                right   \n",
       "323865917       dendrite-only                322489588                 left   \n",
       "\n",
       "           normalized_depth  \n",
       "id                           \n",
       "565871768          0.582057  \n",
       "469801138          0.469578  \n",
       "605889373               NaN  \n",
       "485909730          0.478344  \n",
       "323865917          0.608590  "
      ]
     },
     "execution_count": 42,
     "metadata": {},
     "output_type": "execute_result"
    }
   ],
   "source": [
    "mouse_df = pd.DataFrame(ctc.get_cells(species = [CellTypesApi.MOUSE])).set_index('id')\n",
    "mouse_df.head()"
   ]
  },
  {
   "cell_type": "markdown",
   "metadata": {},
   "source": [
    "The Allen has many pre-computed features that you might consider comparing across cells. Some of these features include input resistance (input_resistance_mohm), Adapation ratio (adaptation), Average ISI (avg_isi), and many others (you can find a complete glossary <a href = \"https://docs.google.com/document/d/1YGLwkMTebwrXd_1E817LFbztMjSTCWh83Mlp3_3ZMEo/edit#heading=h.t0p3wngfkxc1\"> here </a>)."
   ]
  },
  {
   "cell_type": "markdown",
   "metadata": {},
   "source": [
    "We combined the human metadata with our electrophysiology dataframe. From our new human electrophysiology dataframe, we created two dataframes to compare spiny dendrite types to aspiny dendrite types."
   ]
  },
  {
   "cell_type": "code",
   "execution_count": 43,
   "metadata": {},
   "outputs": [],
   "source": [
    "# gather all spiny and aspiny e cells into different dataframes\n",
    "mouse_spiny_df = mouse_ephys_df[mouse_ephys_df['dendrite_type']=='spiny']\n",
    "mouse_aspiny_df = mouse_ephys_df[mouse_ephys_df['dendrite_type']=='aspiny']"
   ]
  },
  {
   "cell_type": "code",
   "execution_count": 44,
   "metadata": {},
   "outputs": [
    {
     "data": {
      "image/png": "[encoded data removed]",
      "text/plain": [
       "<Figure size 432x288 with 1 Axes>"
      ]
     },
     "metadata": {
      "needs_background": "light"
     },
     "output_type": "display_data"
    }
   ],
   "source": [
    "# plot our figure \n",
    "plt.boxplot([mouse_spiny_df['input_resistance_mohm'], mouse_aspiny_df['input_resistance_mohm']])\n",
    "plt.ylabel('Input Resistance (mohm)')\n",
    "plt.xticks([1,2], ['Spiny', 'Aspiny'])\n",
    "plt.title('Input Resistance of Mouse Spiny vs Aspiny Neuron Dendrite Types')\n",
    "\n",
    "plt.show()"
   ]
  },
  {
   "cell_type": "code",
   "execution_count": 45,
   "metadata": {},
   "outputs": [],
   "source": [
    "# download our Human cells data and combine with our electrophysiology data\n",
    "human_df = pd.DataFrame(ctc.get_cells(species = [CellTypesApi.HUMAN])).set_index('id')\n",
    "human_ephys_df = human_df.join(ephys_df)"
   ]
  },
  {
   "cell_type": "code",
   "execution_count": 46,
   "metadata": {},
   "outputs": [],
   "source": [
    "# compare two different brain structures \n",
    "human_MTG_df = human_ephys_df[human_ephys_df['structure_area_abbrev']=='MTG']\n",
    "human_MFG_df = human_ephys_df[human_ephys_df['structure_area_abbrev']=='MFG']"
   ]
  },
  {
   "cell_type": "code",
   "execution_count": 47,
   "metadata": {},
   "outputs": [
    {
     "data": {
      "image/png": "[encoded data removed]",
      "text/plain": [
       "<Figure size 432x288 with 1 Axes>"
      ]
     },
     "metadata": {
      "needs_background": "light"
     },
     "output_type": "display_data"
    }
   ],
   "source": [
    "# plot our figure \n",
    "plt.boxplot([human_MTG_df['tau'], human_MFG_df['tau']])\n",
    "plt.ylabel('tau')\n",
    "plt.xticks([1,2], ['MTG', 'MFG'])\n",
    "plt.title('Tau of MTG Cells vs MFG Cells')\n",
    "\n",
    "plt.show()"
   ]
  },
  {
   "cell_type": "code",
   "execution_count": 48,
   "metadata": {},
   "outputs": [],
   "source": [
    "# drop all null values in our column of interest in order to plot\n",
    "human_MTG_df = human_MTG_df.dropna(subset =['avg_isi'])\n",
    "human_MFG_df = human_MFG_df.dropna(subset = ['avg_isi'])"
   ]
  },
  {
   "cell_type": "code",
   "execution_count": 49,
   "metadata": {},
   "outputs": [
    {
     "data": {
      "image/png": "[encoded data removed]",
      "text/plain": [
       "<Figure size 432x288 with 1 Axes>"
      ]
     },
     "metadata": {
      "needs_background": "light"
     },
     "output_type": "display_data"
    }
   ],
   "source": [
    "# plot our figure \n",
    "plt.boxplot([human_MTG_df['avg_isi'], human_MFG_df['avg_isi']])\n",
    "plt.ylabel('Mean value of all interspike intervals in a sweep')\n",
    "plt.xticks([1,2], ['MTG', 'MFG'])\n",
    "plt.title('Average ISI of MTG Cells vs MFG Cells')\n",
    "\n",
    "plt.show()"
   ]
  },
  {
   "cell_type": "code",
   "execution_count": 50,
   "metadata": {},
   "outputs": [
    {
     "data": {
      "image/png": "[encoded data removed]",
      "text/plain": [
       "<Figure size 432x288 with 1 Axes>"
      ]
     },
     "metadata": {
      "needs_background": "light"
     },
     "output_type": "display_data"
    }
   ],
   "source": [
    "# plot our figure \n",
    "plt.boxplot([human_ephys_df['trough_v_short_square'], mouse_ephys_df['trough_v_short_square']])\n",
    "plt.ylabel('Voltage of after-hyperpolarization')\n",
    "plt.xticks([1,2], ['Human', 'Mouse'])\n",
    "plt.title('Voltage of after-hyperpolarization of Human Cells vs Mouse Cells')\n",
    "\n",
    "plt.show()"
   ]
  },
  {
   "cell_type": "code",
   "execution_count": 51,
   "metadata": {},
   "outputs": [],
   "source": [
    "# compare cells of different disease states \n",
    "human_tumor_df = human_ephys_df[human_ephys_df['disease_state']=='tumor']\n",
    "human_epilepsy_df = human_ephys_df[human_ephys_df['disease_state']=='epilepsy']\n",
    "\n",
    "# remove all NaN values in adaptation column to create boxplot \n",
    "human_tumor_df = human_tumor_df.dropna(subset = ['adaptation'])\n",
    "human_epilepsy_df = human_epilepsy_df.dropna(subset = ['adaptation'])"
   ]
  },
  {
   "cell_type": "code",
   "execution_count": 52,
   "metadata": {},
   "outputs": [
    {
     "data": {
      "image/png": "[encoded data removed]",
      "text/plain": [
       "<Figure size 432x288 with 1 Axes>"
      ]
     },
     "metadata": {
      "needs_background": "light"
     },
     "output_type": "display_data"
    }
   ],
   "source": [
    "# plot our figure \n",
    "plt.boxplot([human_tumor_df['adaptation'], human_epilepsy_df['adaptation']])\n",
    "plt.ylabel('rate at which firing speeds up or slows down during a stimulus')\n",
    "plt.xticks([1,2], ['Tumor', 'Epilepsy'])\n",
    "plt.title('Adaptation of Tumor Cells vs Epilepsy Cells')\n",
    "\n",
    "plt.show()"
   ]
  },
  {
   "cell_type": "code",
   "execution_count": null,
   "metadata": {},
   "outputs": [],
   "source": []
  }
 ],
 "metadata": {
  "kernelspec": {
   "display_name": "Python 3",
   "language": "python",
   "name": "python3"
  },
  "language_info": {
   "codemirror_mode": {
    "name": "ipython",
    "version": 3
   },
   "file_extension": ".py",
   "mimetype": "text/x-python",
   "name": "python",
   "nbconvert_exporter": "python",
   "pygments_lexer": "ipython3",
   "version": "3.7.6"
  }
 },
 "nbformat": 4,
 "nbformat_minor": 4
}
