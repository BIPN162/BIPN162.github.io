{
 "cells": [
  {
   "cell_type": "markdown",
   "metadata": {},
   "source": [
    "# Connectivity"
   ]
  },
  {
   "cell_type": "code",
   "execution_count": null,
   "metadata": {},
   "outputs": [],
   "source": []
  },
  {
   "cell_type": "markdown",
   "metadata": {},
   "source": [
    "## Option 1: Through the AllenSDK\n",
    "\n",
    "### Import necessary packages"
   ]
  },
  {
   "cell_type": "code",
   "execution_count": 2,
   "metadata": {},
   "outputs": [],
   "source": [
    "import pandas as pd\n",
    "import numpy as np\n",
    "import matplotlib.pyplot as plt\n",
    "%matplotlib inline\n",
    "\n",
    "from allensdk.core.mouse_connectivity_cache import MouseConnectivityCache\n",
    "manifest = 'connectivity/mouse_connectivity_manifest.json'\n",
    "mcc = MouseConnectivityCache(manifest_file=manifest)\n",
    "structure_tree = mcc.get_structure_tree()"
   ]
  },
  {
   "cell_type": "code",
   "execution_count": null,
   "metadata": {},
   "outputs": [],
   "source": [
    "# retrieve structure information for accumbens\n",
    "accumbens_id = structure_tree.get_structures_by_acronym(['ACB'])[0]['id']\n",
    "\n",
    "# get experiments by cre line and injection structure\n",
    "drd1 = pd.DataFrame(mcc.get_experiments(cre=[ 'Drd1a-Cre_EY262' ], injection_structure_ids=[accumbens_id]))\n",
    "drd1_unionizes = mcc.get_structure_unionizes(drd1['id'],is_injection=False,hemisphere_ids=[3])"
   ]
  },
  {
   "cell_type": "markdown",
   "metadata": {},
   "source": [
    "## Option 2: Using the RMA"
   ]
  },
  {
   "cell_type": "code",
   "execution_count": null,
   "metadata": {},
   "outputs": [],
   "source": [
    "dg_experiment_raw = requests.get('http://api.brain-map.org/api/v2/data/query.json?criteria=\\\n",
    "service::mouse_connectivity_injection_structure[injection_structures$eqDG][primary_structure_only$eqtrue]')\n",
    "\n",
    "# the obtained file turned out to be a text file with all information included in a string. \n",
    "# I would therefore have to split the strings to extract the information I needed. \n",
    "dg_txt = dg_experiment_raw.text\n",
    "mat = dg_txt.split(',')\n",
    "counter = 0\n",
    "\n",
    "for item in mat:\n",
    "    if 'msg' in item:\n",
    "        msg_position = counter\n",
    "    counter += 1\n",
    "mat_new = mat[msg_position:]"
   ]
  },
  {
   "cell_type": "markdown",
   "metadata": {},
   "source": [
    "### Get projection density data from a specific experiment"
   ]
  },
  {
   "cell_type": "code",
   "execution_count": null,
   "metadata": {},
   "outputs": [],
   "source": [
    "# getting the projection density data by experiment ids from RMA query\n",
    "conn_exp_1 = requests.get('http://api.brain-map.org/api/v2/data/ProjectionStructureUnionize/query.xml?criteria=[section_data_set_id$eq266250904],[is_injection$eqfalse]&num_rows=5000&include=structure')"
   ]
  },
  {
   "cell_type": "markdown",
   "metadata": {},
   "source": [
    "### About this notebook\n",
    "\n",
    "Much thanks goes to previous BIPN 162 students for pioneering the use of these datasets, particularly [this project](https://github.com/BIPN162/FinalProjectsWI20/blob/master/group_04/162FinalProjectDraft%20(3).ipynb) and [this project](https://github.com/BIPN162/FinalProjectsWI20/blob/master/group_02/BGGN240_Final_Project_group2.ipynb)."
   ]
  },
  {
   "cell_type": "code",
   "execution_count": null,
   "metadata": {},
   "outputs": [],
   "source": []
  }
 ],
 "metadata": {
  "kernelspec": {
   "display_name": "Python 3",
   "language": "python",
   "name": "python3"
  },
  "language_info": {
   "codemirror_mode": {
    "name": "ipython",
    "version": 3
   },
   "file_extension": ".py",
   "mimetype": "text/x-python",
   "name": "python",
   "nbconvert_exporter": "python",
   "pygments_lexer": "ipython3",
   "version": "3.7.3"
  }
 },
 "nbformat": 4,
 "nbformat_minor": 2
}
